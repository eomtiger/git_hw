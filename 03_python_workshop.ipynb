{
 "cells": [
  {
   "cell_type": "markdown",
   "id": "0c0cc911",
   "metadata": {},
   "source": [
    "# 1. 세로로 출력하기\n",
    "자연수 number를 입력 받아, 1부터 number까지의 수를 세로로 한줄씩 출력하시오."
   ]
  },
  {
   "cell_type": "code",
   "execution_count": 2,
   "id": "5b723769",
   "metadata": {},
   "outputs": [
    {
     "name": "stdout",
     "output_type": "stream",
     "text": [
      "자연수를 입력하세요 : 10\n",
      "1\n",
      "2\n",
      "3\n",
      "4\n",
      "5\n",
      "6\n",
      "7\n",
      "8\n",
      "9\n",
      "10\n"
     ]
    }
   ],
   "source": [
    "n = int(input('자연수를 입력하세요 : '))\n",
    "\n",
    "for i in range(1,n+1):\n",
    "    print(i)"
   ]
  },
  {
   "cell_type": "markdown",
   "id": "9571fc4d",
   "metadata": {},
   "source": [
    "# 2. 가로로 출력하기\n",
    "자연수 number를 입력 받아, 1부터 number까지의 수를 가로로 한칸씩 띄어 출력하시오."
   ]
  },
  {
   "cell_type": "code",
   "execution_count": 14,
   "id": "6d64641a",
   "metadata": {},
   "outputs": [
    {
     "name": "stdout",
     "output_type": "stream",
     "text": [
      "자연수를 입력하세여 : 10\n",
      "1 2 3 4 5 6 7 8 9 10\n"
     ]
    }
   ],
   "source": [
    "n = int(input('자연수를 입력하세여 : '))\n",
    "answer = '1'\n",
    "for i in range(2, n+1):\n",
    "    answer += ' ' + str(i)\n",
    "print(answer)\n",
    "    "
   ]
  },
  {
   "cell_type": "markdown",
   "id": "55a98d72",
   "metadata": {},
   "source": [
    "# 3. 거꾸로 세로로 출력하기\n",
    "자연수 number를 입력 받아, number부터 0까지의 수를 세로로 한줄씩 출력하시오."
   ]
  },
  {
   "cell_type": "code",
   "execution_count": 19,
   "id": "a47dbd43",
   "metadata": {},
   "outputs": [
    {
     "name": "stdout",
     "output_type": "stream",
     "text": [
      "자연수를 입력하세요 : 5\n",
      "5\n",
      "4\n",
      "3\n",
      "2\n",
      "1\n"
     ]
    }
   ],
   "source": [
    "n = int(input('자연수를 입력하세요 : '))\n",
    "\n",
    "for i in range(n , 0 , -1):\n",
    "    print(i)"
   ]
  },
  {
   "cell_type": "markdown",
   "id": "85c4c38c",
   "metadata": {},
   "source": [
    "# 4. 거꾸로 출력해 보아요 (SWEA #1545)\n",
    "자연수 number를 입력 받아, number부터 0까지의 수를 가로로 한칸씩 띄어 출력하시오."
   ]
  },
  {
   "cell_type": "code",
   "execution_count": 22,
   "id": "ed20a835",
   "metadata": {},
   "outputs": [
    {
     "name": "stdout",
     "output_type": "stream",
     "text": [
      "자연수를 입력하세여 : 20\n",
      "20 19 18 17 16 15 14 13 12 11 10 9 8 7 6 5 4 3 2 1 0\n"
     ]
    }
   ],
   "source": [
    "n = int(input('자연수를 입력하세여 : '))\n",
    "answer = str(n)\n",
    "for i in range(n-1, -1, -1):\n",
    "    answer += ' ' + str(i)\n",
    "print(answer)"
   ]
  },
  {
   "cell_type": "markdown",
   "id": "b3fde6bc",
   "metadata": {},
   "source": [
    "# 5. N줄 덧셈 (SWEA #2025)\n",
    "입력으로 자연수 number가 주어질 때, 1부터 주어진 자연수 number까지를 모두 더한\n",
    "값을 출력하시오. 단, 주어지는 숫자는 10000을 넘지 않는다. 예를 들어, 주어진 숫자가\n",
    "10일 경우 1 + 2 + 3 + 4 + 5 + 6 + 7 + 8 + 9 + 10 = 55이므로, 출력해야 할 값은 55이다"
   ]
  },
  {
   "cell_type": "code",
   "execution_count": 24,
   "id": "3d30d1f9",
   "metadata": {},
   "outputs": [
    {
     "name": "stdout",
     "output_type": "stream",
     "text": [
      "자연수를 입력하세요 : 10\n",
      "55\n"
     ]
    }
   ],
   "source": [
    "n = int(input('자연수를 입력하세요 : '))\n",
    "\n",
    "sum_n = 0\n",
    "for i in range(1,n+1):\n",
    "    sum_n += i\n",
    "    \n",
    "print(sum_n)"
   ]
  },
  {
   "cell_type": "markdown",
   "id": "3bea10b8",
   "metadata": {},
   "source": [
    "# 6. 삼각형 출력하기\n",
    "자연수 number를 입력 받아, 아래와 같이 높이가 number인 삼각형을 출력하시오."
   ]
  },
  {
   "cell_type": "code",
   "execution_count": 32,
   "id": "cb053105",
   "metadata": {},
   "outputs": [
    {
     "name": "stdout",
     "output_type": "stream",
     "text": [
      "자연수를 입력하세요 : 7\n",
      "      *\n",
      "     **\n",
      "    ***\n",
      "   ****\n",
      "  *****\n",
      " ******\n",
      "*******\n"
     ]
    }
   ],
   "source": [
    "num = int(input('자연수를 입력하세요 : '))\n",
    "\n",
    "#padding = ' '\n",
    "for i in range(1,num+1):\n",
    "    print(' ' * (num-i) + '*' * i)"
   ]
  },
  {
   "cell_type": "markdown",
   "id": "e1aabb15",
   "metadata": {},
   "source": [
    "# 7. 중간값 찾기 (SWEA #2063 변형)\n",
    "중간값은 통계 집단의 수치를 크기 순으로 배열 했을 때 전체의 중앙에 위치하는 수치를\n",
    "뜻한다. 리스트 numbers에 입력된 숫자에서 중간값을 출력하라."
   ]
  },
  {
   "cell_type": "code",
   "execution_count": 33,
   "id": "bda331df",
   "metadata": {},
   "outputs": [],
   "source": [
    "numbers = [\n",
    "85, 72, 38, 80, 69, 65, 68, 96, 22, 49, 67,\n",
    "51, 61, 63, 87, 66, 24, 80, 83, 71, 60, 64,\n",
    "52, 90, 60, 49, 31, 23, 99, 94, 11, 25, 24,\n",
    "]"
   ]
  },
  {
   "cell_type": "code",
   "execution_count": 37,
   "id": "0ed59c0b",
   "metadata": {},
   "outputs": [
    {
     "data": {
      "text/plain": [
       "33"
      ]
     },
     "execution_count": 37,
     "metadata": {},
     "output_type": "execute_result"
    }
   ],
   "source": [
    "numbers.sort()\n",
    "\n",
    "len(numbers)"
   ]
  },
  {
   "cell_type": "code",
   "execution_count": 38,
   "id": "8dd001d5",
   "metadata": {},
   "outputs": [
    {
     "name": "stdout",
     "output_type": "stream",
     "text": [
      "64\n"
     ]
    }
   ],
   "source": [
    "print(numbers[16])"
   ]
  }
 ],
 "metadata": {
  "kernelspec": {
   "display_name": "Python 3 (ipykernel)",
   "language": "python",
   "name": "python3"
  },
  "language_info": {
   "codemirror_mode": {
    "name": "ipython",
    "version": 3
   },
   "file_extension": ".py",
   "mimetype": "text/x-python",
   "name": "python",
   "nbconvert_exporter": "python",
   "pygments_lexer": "ipython3",
   "version": "3.9.7"
  }
 },
 "nbformat": 4,
 "nbformat_minor": 5
}
