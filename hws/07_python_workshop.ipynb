{
 "cells": [
  {
   "cell_type": "markdown",
   "id": "46e78846",
   "metadata": {},
   "source": [
    "Faker는 개발시 활용할 수 있는 가상의 데이터를 생성해주는 파이썬 패키지이다.\n",
    "워크샵에 등장하는 코드는 모두 Github(https://github.com/joke2k/faker) 문서의 예제이다.\n",
    "지금까지 배운 파이썬 개념을 활용하여 해석 하시오."
   ]
  },
  {
   "cell_type": "markdown",
   "id": "17c3fe1e",
   "metadata": {},
   "source": [
    "# 1. pip\n",
    "아래 명령어는 (1) 무엇을 위한 명령인지 (2) 실행은 어디에서 해야하는지 작성 하시오."
   ]
  },
  {
   "cell_type": "markdown",
   "id": "86067421",
   "metadata": {},
   "source": [
    "$ pip install faker\n"
   ]
  },
  {
   "cell_type": "markdown",
   "id": "a63c4417",
   "metadata": {},
   "source": [
    "faker를 다운받기 위한 명령, 터미널에서 실행"
   ]
  },
  {
   "cell_type": "markdown",
   "id": "13a841e2",
   "metadata": {},
   "source": [
    "# 2. Basic Usages\n",
    "(https://github.com/joke2k/faker#basic-usage)\n",
    "\n",
    "Faker는 다양한 메서드를 통해 임의의 결과값을 반환해준다.\n",
    "임의의 영문 이름을 반환하는 아래 코드에서 라인별 의미를 주석을 참고하여 작성하시오."
   ]
  },
  {
   "cell_type": "code",
   "execution_count": 1,
   "id": "1a4cc0e4",
   "metadata": {},
   "outputs": [],
   "source": [
    "# from faker import Faker # 1 _____을 하기 위한 코드이다. faker를 불러오기\n",
    "# fake = Faker() # 2 Faker는 _____, fake는 _____이다. class , Faker 의 instance\n",
    "# fake.name() # 3 name()은 fake의 _____이다. 인스턴스 변수"
   ]
  },
  {
   "cell_type": "markdown",
   "id": "64fe337d",
   "metadata": {},
   "source": [
    "# 3. Localization\n",
    "(https://github.com/joke2k/faker#localization)\n",
    "\n",
    "Faker는 다양한 언어의 Locale을 지원한다.\n",
    "1. 인자 없이 호출 시에는 영문이 기본 설정이다. (en_US)\n",
    "\n",
    "fake = Faker()\n",
    "\n",
    "fake.name()\n",
    "\n",
    "'Shelly Wilcox' (랜덤이므로 결과 값이 다를 수 있음)\n",
    "\n",
    "\n",
    "\n",
    "\n",
    "2. locale 정보를 포함하여 호출 시에는 해당 언어 설정을 따른다.\n",
    "\n",
    "fake_ko = Faker(’ko_KR’)\n",
    "\n",
    "fake_ko.name()\n",
    "\n",
    "’배송윤’ (랜덤이므로 결과 값이 다를 수 있음)\n",
    "\n",
    "\n",
    "직접 해당하는 기능을 구현한다고 하였을 때, 빈칸 (a), (b), (c)에 들어갈 코드로\n",
    "적절한 것을 작성하시오. (힌트: 생성자 메서드와 함수의 개념)\n",
    "\n",
    "class Faker():\n",
    "\n",
    "def _ _(a)_ _((b), (c)):\n",
    "\n",
    "pass\n"
   ]
  },
  {
   "cell_type": "code",
   "execution_count": 2,
   "id": "0af6bfb9",
   "metadata": {},
   "outputs": [],
   "source": [
    "#a = __init__\n",
    "#b = self\n",
    "#c = name"
   ]
  },
  {
   "cell_type": "markdown",
   "id": "47ddaf94",
   "metadata": {},
   "source": [
    "# 4. Seeding the Generator\n",
    "(https://github.com/joke2k/faker#seeding-the-generator)\n",
    "\n",
    "컴퓨터 프로그래밍에서 임의의 값을 반환하는 경우(난수 생성 등) 시드라는 개념이 있다.\n",
    "시드를 설정하게 되면 동일한 순서로 난수를 발생시킬 수 있어 일반적으로 디버깅을\n",
    "위하여 활용 된다"
   ]
  },
  {
   "cell_type": "code",
   "execution_count": 3,
   "id": "a9ab7024",
   "metadata": {},
   "outputs": [],
   "source": [
    "# import random\n",
    "# random.random() # => 임의의 수\n",
    "# random.random() # => 임의의 수\n",
    "# random.seed(7777)\n",
    "# random.random() # => 0.8170477907294282\n",
    "# random.seed(8888)\n",
    "# random.random() # => 0.5765870569118247"
   ]
  },
  {
   "cell_type": "markdown",
   "id": "2e4c347e",
   "metadata": {},
   "source": [
    "① 아래의 코드를 실행 했을 때, #1과 #2에서 출력되는 결과를 각각 작성하고,\n",
    "seed()는 어떤 종류의 메서드인지 작성하시오"
   ]
  },
  {
   "cell_type": "code",
   "execution_count": 4,
   "id": "63de2a98",
   "metadata": {},
   "outputs": [],
   "source": [
    "# fake1 = Faker(’ko_KR’)\n",
    "# Faker.seed(87654321)\n",
    "# print(fake1.name())         # 1 한국어 이름\n",
    "# fake2 = Faker(’ko_KR’)\n",
    "# print(fake2.name())          # 2 한국어 이름\n"
   ]
  },
  {
   "cell_type": "markdown",
   "id": "d5fda887",
   "metadata": {},
   "source": [
    "seed가 같으면 같은 난수 생성?, instance 메서드"
   ]
  },
  {
   "cell_type": "markdown",
   "id": "0ab536e4",
   "metadata": {},
   "source": [
    "# 4. Seeding the Generator\n",
    "② 아래의 코드를 실행 했을 때, #1과 #2에서 출력되는 결과를 각각 작성하고,\n",
    "seed_instance()는 어떤 종류의 메서드인지 작성하시오"
   ]
  },
  {
   "cell_type": "code",
   "execution_count": 5,
   "id": "66efc6ca",
   "metadata": {},
   "outputs": [],
   "source": [
    "# fake1 = Faker(’ko_KR’)\n",
    "# fake1.seed_instance(87654321)\n",
    "# print(fake1.name())         # 1 한국이름 seed_instance에 할당된\n",
    "# fake2 = Faker(’ko_KR’)\n",
    "# print(fake2.name())         # 2 1과 같음"
   ]
  },
  {
   "cell_type": "markdown",
   "id": "1b1f92b1",
   "metadata": {},
   "source": [
    "instance 메서드"
   ]
  }
 ],
 "metadata": {
  "kernelspec": {
   "display_name": "Python 3 (ipykernel)",
   "language": "python",
   "name": "python3"
  },
  "language_info": {
   "codemirror_mode": {
    "name": "ipython",
    "version": 3
   },
   "file_extension": ".py",
   "mimetype": "text/x-python",
   "name": "python",
   "nbconvert_exporter": "python",
   "pygments_lexer": "ipython3",
   "version": "3.9.13"
  }
 },
 "nbformat": 4,
 "nbformat_minor": 5
}
