{
 "cells": [
  {
   "cell_type": "markdown",
   "id": "a36f78d0",
   "metadata": {},
   "source": [
    "# 숫자의 입력과 출력"
   ]
  },
  {
   "cell_type": "markdown",
   "id": "90d3532b",
   "metadata": {},
   "source": [
    "입력 받은 데이터를 숫자로 변환하고 덧셈해서 출력하는 프로그램을 작성하시오.\n",
    "(힌트 : input() 함수를 활용하여 데이터를 입력받을 수 있다.) \n"
   ]
  },
  {
   "cell_type": "markdown",
   "id": "e12741ac",
   "metadata": {},
   "source": [
    "[입력]\n",
    "숫자를 2번 입력받는다.\n",
    "\n",
    "[출력]\n",
    "입력 숫자를 계산하여 값을 출력한다.\n",
    "\n",
    "[입력 예시]\n",
    "6374\n",
    "8729\n",
    "\n",
    "[출력 예시]\n",
    "15103"
   ]
  },
  {
   "cell_type": "code",
   "execution_count": 1,
   "id": "60768684",
   "metadata": {},
   "outputs": [
    {
     "name": "stdout",
     "output_type": "stream",
     "text": [
      "숫자를 입력하세요 : 456\n",
      "숫자를 입력하세요 : 752\n",
      "456752\n"
     ]
    }
   ],
   "source": [
    "a = input('숫자를 입력하세요 : ')\n",
    "b = input('숫자를 입력하세요 : ')\n",
    "print(a+b)"
   ]
  },
  {
   "cell_type": "markdown",
   "id": "9b3f393d",
   "metadata": {},
   "source": [
    "# 2. Dictionary를 활용하여 평균 구하기"
   ]
  },
  {
   "cell_type": "markdown",
   "id": "c672c7f8",
   "metadata": {},
   "source": [
    "좋아하는 점심메뉴를 이용하여 key는 메뉴, value는 가격인 dictionary를 만들고,\n",
    "점심메뉴의 평균 값을 출력하시오."
   ]
  },
  {
   "cell_type": "code",
   "execution_count": 2,
   "id": "6183e1c5",
   "metadata": {},
   "outputs": [
    {
     "name": "stdout",
     "output_type": "stream",
     "text": [
      "{'pizza': 20000, 'chicken': 20000, 'pasta': 15000, 'taco': 12000}\n"
     ]
    }
   ],
   "source": [
    "menu = {'pizza' : 20000, 'chicken' : 20000, 'pasta' : 15000, 'taco' : 12000}\n",
    "print(menu)"
   ]
  },
  {
   "cell_type": "code",
   "execution_count": 7,
   "id": "232a1935",
   "metadata": {},
   "outputs": [
    {
     "data": {
      "text/plain": [
       "16750"
      ]
     },
     "execution_count": 7,
     "metadata": {},
     "output_type": "execute_result"
    }
   ],
   "source": [
    "avg = int(sum(menu.values())/len(menu))\n",
    "avg"
   ]
  },
  {
   "cell_type": "code",
   "execution_count": 10,
   "id": "6810f3f5",
   "metadata": {},
   "outputs": [
    {
     "name": "stdout",
     "output_type": "stream",
     "text": [
      "16750원\n"
     ]
    }
   ],
   "source": [
    "print(str(avg) + '원')"
   ]
  },
  {
   "cell_type": "code",
   "execution_count": null,
   "id": "76e43788",
   "metadata": {},
   "outputs": [],
   "source": []
  }
 ],
 "metadata": {
  "kernelspec": {
   "display_name": "Python 3 (ipykernel)",
   "language": "python",
   "name": "python3"
  },
  "language_info": {
   "codemirror_mode": {
    "name": "ipython",
    "version": 3
   },
   "file_extension": ".py",
   "mimetype": "text/x-python",
   "name": "python",
   "nbconvert_exporter": "python",
   "pygments_lexer": "ipython3",
   "version": "3.9.7"
  }
 },
 "nbformat": 4,
 "nbformat_minor": 5
}
