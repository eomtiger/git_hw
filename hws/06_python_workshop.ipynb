{
 "cells": [
  {
   "cell_type": "markdown",
   "id": "60b1900a",
   "metadata": {},
   "source": [
    "# 1. 무엇이 중복일까\n",
    "문자열을 전달 받아 해당 문자열에서 중복해서 나타난 문자들을 담은 list를 반환하는\n",
    "duplicated_letters 함수를 작성하시오."
   ]
  },
  {
   "cell_type": "code",
   "execution_count": 21,
   "id": "f68b10bb",
   "metadata": {},
   "outputs": [],
   "source": [
    "\n",
    "\n",
    "\n",
    "def duplicated_letters(string):\n",
    "    b = []\n",
    "    a = list(string)\n",
    "    \n",
    "    for i in string:\n",
    "        if string.count(i) > 1:\n",
    "            b.append(i)\n",
    "\n",
    "    return set(b)\n",
    "                     \n",
    "            "
   ]
  },
  {
   "cell_type": "code",
   "execution_count": 22,
   "id": "fbb8a36f",
   "metadata": {},
   "outputs": [
    {
     "data": {
      "text/plain": [
       "{'a', 'n'}"
      ]
     },
     "execution_count": 22,
     "metadata": {},
     "output_type": "execute_result"
    }
   ],
   "source": [
    "duplicated_letters('banana')"
   ]
  },
  {
   "cell_type": "markdown",
   "id": "cb08dee6",
   "metadata": {},
   "source": [
    "# 2. 소대소대\n",
    "문자열을 전달 받아 해당 문자열을 소문자와 대문자가 번갈아 나타나도록 변환하여\n",
    "반환하는 low_and_up 함수를 작성하시오. \n",
    "이때, 전달 받는 문자열은 알파벳으로만 구성된다."
   ]
  },
  {
   "cell_type": "code",
   "execution_count": 25,
   "id": "44261d32",
   "metadata": {},
   "outputs": [],
   "source": [
    "def low_and_up(string):\n",
    "    \n",
    "    a= []\n",
    "    for i in range(len(list(string))):\n",
    "        if i % 2 == 0 :\n",
    "            a.append(string[i])\n",
    "        elif i % 2 == 1 :\n",
    "            a.append(string[i].upper())\n",
    "            \n",
    "    a_str = ''\n",
    "    for i in range(len(a)):\n",
    "        a_str += a[i]\n",
    "    \n",
    "    return a_str\n",
    "        "
   ]
  },
  {
   "cell_type": "code",
   "execution_count": 26,
   "id": "87379fab",
   "metadata": {},
   "outputs": [
    {
     "data": {
      "text/plain": [
       "'sTrInG'"
      ]
     },
     "execution_count": 26,
     "metadata": {},
     "output_type": "execute_result"
    }
   ],
   "source": [
    "low_and_up('string')"
   ]
  },
  {
   "cell_type": "markdown",
   "id": "5ccff80d",
   "metadata": {},
   "source": [
    "# 3. 솔로 천국 만들기\n",
    "정수 0부터 9까지로 이루어진 list를 전달 받아, 연속적으로 나타나는 숫자는 하나만 남\n",
    "기고 제거한 list를 반환하는 lonely 함수를 작성하시오. \n",
    "이때, 제거된 후 남은 수들이 담긴 list의 요소들은 기존의 순서를 유지해야 한다."
   ]
  },
  {
   "cell_type": "code",
   "execution_count": 31,
   "id": "811c88b9",
   "metadata": {},
   "outputs": [],
   "source": [
    "def lonely(lst):\n",
    "    a = []\n",
    "    \n",
    "    for i in range(len(lst)):\n",
    "        if (lst[i] not in a) or (lst[i-1] != lst[i]) :\n",
    "            a.append(lst[i])\n",
    "        elif lst[i] in a:\n",
    "            pass\n",
    "    return a"
   ]
  },
  {
   "cell_type": "code",
   "execution_count": 32,
   "id": "23084eff",
   "metadata": {},
   "outputs": [
    {
     "data": {
      "text/plain": [
       "[1, 3, 0, 1]"
      ]
     },
     "execution_count": 32,
     "metadata": {},
     "output_type": "execute_result"
    }
   ],
   "source": [
    "lonely([1,1,3,3,0,1,1])"
   ]
  },
  {
   "cell_type": "code",
   "execution_count": null,
   "id": "55ca66bd",
   "metadata": {},
   "outputs": [],
   "source": []
  }
 ],
 "metadata": {
  "kernelspec": {
   "display_name": "Python 3 (ipykernel)",
   "language": "python",
   "name": "python3"
  },
  "language_info": {
   "codemirror_mode": {
    "name": "ipython",
    "version": 3
   },
   "file_extension": ".py",
   "mimetype": "text/x-python",
   "name": "python",
   "nbconvert_exporter": "python",
   "pygments_lexer": "ipython3",
   "version": "3.9.13"
  },
  "toc": {
   "base_numbering": 1,
   "nav_menu": {},
   "number_sections": true,
   "sideBar": true,
   "skip_h1_title": false,
   "title_cell": "Table of Contents",
   "title_sidebar": "Contents",
   "toc_cell": false,
   "toc_position": {},
   "toc_section_display": true,
   "toc_window_display": false
  }
 },
 "nbformat": 4,
 "nbformat_minor": 5
}
