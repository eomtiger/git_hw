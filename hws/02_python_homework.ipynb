{
 "cells": [
  {
   "cell_type": "markdown",
   "id": "bf849df2",
   "metadata": {},
   "source": [
    "# 1. Mutable & Immutable\n"
   ]
  },
  {
   "cell_type": "markdown",
   "id": "d02c0c32",
   "metadata": {},
   "source": [
    "주어진 컨테이너들을 각각 변경 가능한 것(mutable)과\n",
    "변경 불가능한 것(immutable)으로 분류하시오"
   ]
  },
  {
   "cell_type": "markdown",
   "id": "64283f35",
   "metadata": {},
   "source": [
    "String, List, Tuple, Range, Set, Dictionary"
   ]
  },
  {
   "cell_type": "markdown",
   "id": "50388f93",
   "metadata": {},
   "source": [
    "답 : immutable - string, tuple, range\n",
    "     mutable - list, dict, set"
   ]
  },
  {
   "cell_type": "markdown",
   "id": "a5d16a78",
   "metadata": {},
   "source": [
    "# 2.dictionary 만들기"
   ]
  },
  {
   "cell_type": "markdown",
   "id": "0f1e4be0",
   "metadata": {},
   "source": [
    "반 학생들의 정보를 이용하여 key는 이름, value는 나이인 dictionary를 만드시오.\n",
    "내 자리를 기준으로 앞, 뒤 좌, 우에 앉아 있는 학생의 정보를 참고하시오.\n"
   ]
  },
  {
   "cell_type": "code",
   "execution_count": 2,
   "id": "325025fc",
   "metadata": {},
   "outputs": [
    {
     "data": {
      "text/plain": [
       "{'강정훈': 26, '임범규': 24}"
      ]
     },
     "execution_count": 2,
     "metadata": {},
     "output_type": "execute_result"
    }
   ],
   "source": [
    "dictionary = {'강정훈' : 26, '임범규' : 24}\n",
    "dictionary"
   ]
  },
  {
   "cell_type": "code",
   "execution_count": 3,
   "id": "c1d1cdb3",
   "metadata": {},
   "outputs": [
    {
     "data": {
      "text/plain": [
       "dict"
      ]
     },
     "execution_count": 3,
     "metadata": {},
     "output_type": "execute_result"
    }
   ],
   "source": [
    "type(dictionary)"
   ]
  },
  {
   "cell_type": "markdown",
   "id": "c045400f",
   "metadata": {},
   "source": [
    "# 3. 평균 구하기"
   ]
  },
  {
   "cell_type": "markdown",
   "id": "2b30f8e0",
   "metadata": {},
   "source": [
    "주어진 list에 담긴 숫자들의 평균값을 출력하시오."
   ]
  },
  {
   "cell_type": "code",
   "execution_count": 4,
   "id": "9b5cd52c",
   "metadata": {},
   "outputs": [],
   "source": [
    "scores = [80, 89, 99, 83] # => 87.75"
   ]
  },
  {
   "cell_type": "code",
   "execution_count": 10,
   "id": "c9837fd7",
   "metadata": {},
   "outputs": [
    {
     "data": {
      "text/plain": [
       "87.75"
      ]
     },
     "execution_count": 10,
     "metadata": {},
     "output_type": "execute_result"
    }
   ],
   "source": [
    "sum(scores[:])/len(scores)"
   ]
  },
  {
   "cell_type": "code",
   "execution_count": null,
   "id": "e237d1ee",
   "metadata": {},
   "outputs": [],
   "source": []
  }
 ],
 "metadata": {
  "kernelspec": {
   "display_name": "Python 3 (ipykernel)",
   "language": "python",
   "name": "python3"
  },
  "language_info": {
   "codemirror_mode": {
    "name": "ipython",
    "version": 3
   },
   "file_extension": ".py",
   "mimetype": "text/x-python",
   "name": "python",
   "nbconvert_exporter": "python",
   "pygments_lexer": "ipython3",
   "version": "3.9.7"
  }
 },
 "nbformat": 4,
 "nbformat_minor": 5
}
