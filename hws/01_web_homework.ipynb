{
 "cells": [
  {
   "cell_type": "markdown",
   "id": "5e54bf3c",
   "metadata": {},
   "source": [
    "# 1. HTML 정의\n",
    "아래의 보기 (1) ~ (4) 중에서, HTML의 본딧말을 고르시오. "
   ]
  },
  {
   "cell_type": "markdown",
   "id": "9006b21f",
   "metadata": {},
   "source": [
    "(1) Hyperlinks and Text Markup Language\n",
    "\n",
    "(2) Home Tool Markup Language\n",
    "\n",
    "(3) Hyper Text Markup Language\n",
    "\n",
    "(4) Hyper Tool Markup Language\n"
   ]
  },
  {
   "cell_type": "markdown",
   "id": "5695750d",
   "metadata": {},
   "source": [
    "(3)"
   ]
  },
  {
   "cell_type": "markdown",
   "id": "33ecc1ba",
   "metadata": {},
   "source": [
    "# 2. HTML 개념\n",
    "각 문항을 읽고 맞으면 T, 틀리면 F를 작성 하시오.\n",
    "\n"
   ]
  },
  {
   "cell_type": "markdown",
   "id": "cb51c91e",
   "metadata": {},
   "source": [
    "(1) 웹 표준을 만드는 곳은 Mozilla 재단이다.\n",
    "\n",
    "(2) 표(table) 을 만들 때에는 반드시 <th> 태그를 사용해야 한다.\n",
    "\n",
    "(3) 제목(Heading) 태그는 제목 이외에는 사용하지 않는 것이 좋다.\n",
    "\n",
    "(4) 리스트를 나열하기 위해서는 <ul> 태그만 사용 할 수 있다.\n",
    "\n",
    "(5) HTML의 태그는 반드시 별도의 닫는 태그가 필요하다"
   ]
  },
  {
   "cell_type": "markdown",
   "id": "b561a3a7",
   "metadata": {},
   "source": [
    "F, F, F, F, T"
   ]
  },
  {
   "cell_type": "markdown",
   "id": "0c47731e",
   "metadata": {},
   "source": [
    "# 3. CSS 정의\n",
    "아래의 보기 (1) ~ (4) 중에서, CSS의 본딧말을 고르시오."
   ]
  },
  {
   "cell_type": "markdown",
   "id": "c65b6f55",
   "metadata": {},
   "source": [
    "(1) Creative Style Sheets\n",
    "\n",
    "(2) Cascading Style Sheets\n",
    "\n",
    "(3) Computer Style Sheets\n",
    "\n",
    "(4) Colorful Style Sheets\n",
    "\n",
    "(2)"
   ]
  },
  {
   "cell_type": "markdown",
   "id": "644f9cfd",
   "metadata": {},
   "source": [
    "# 4. CSS 개념\n",
    "각 문항을 읽고 맞으면 T, 틀리면 F를 작성 하시오.\n",
    "\n",
    "1) HTML과 CSS는 각자 문법을 갖는 별개의 언어이다.\n",
    "\n",
    "2) 웹 브라우저는 내장 기본 스타일이 있어 CSS가 없어도 작동한다.\n",
    "\n",
    "3) 자식 요소 프로퍼티는 부모의 프로퍼티를 모두 상속 받는다.\n",
    "\n",
    "4) 디바이스마다 화면의 크기가 다른 것을 고려하여 상대 단위인 %를 사용한다.\n",
    "\n",
    "5) id 값은 유일해야 하므로 중복되어서는 안된다."
   ]
  },
  {
   "cell_type": "markdown",
   "id": "3cba391d",
   "metadata": {},
   "source": [
    "F, T, F, F, F"
   ]
  }
 ],
 "metadata": {
  "kernelspec": {
   "display_name": "Python 3 (ipykernel)",
   "language": "python",
   "name": "python3"
  },
  "language_info": {
   "codemirror_mode": {
    "name": "ipython",
    "version": 3
   },
   "file_extension": ".py",
   "mimetype": "text/x-python",
   "name": "python",
   "nbconvert_exporter": "python",
   "pygments_lexer": "ipython3",
   "version": "3.9.13"
  }
 },
 "nbformat": 4,
 "nbformat_minor": 5
}
