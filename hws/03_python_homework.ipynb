{
 "cells": [
  {
   "cell_type": "markdown",
   "id": "ad40e9be",
   "metadata": {},
   "source": [
    "# 1. Built-in 함수"
   ]
  },
  {
   "cell_type": "markdown",
   "id": "11d2b755",
   "metadata": {},
   "source": [
    "Python에서 기본으로 사용할 수 있는 built-in 함수를 최소 5가지 이상 작성하시오."
   ]
  },
  {
   "cell_type": "markdown",
   "id": "850b27ee",
   "metadata": {},
   "source": [
    "print, sum, len, list, dict"
   ]
  },
  {
   "cell_type": "markdown",
   "id": "ff5d4025",
   "metadata": {},
   "source": [
    "# 2. 홀수만 담기\n"
   ]
  },
  {
   "cell_type": "markdown",
   "id": "b39c1fd0",
   "metadata": {},
   "source": [
    "range와 slicing을 활용하여 1부터 50까지의 숫자 중,\n",
    "홀수로만 이루어진 리스트를 만드시오.\n"
   ]
  },
  {
   "cell_type": "code",
   "execution_count": 1,
   "id": "06122d33",
   "metadata": {},
   "outputs": [
    {
     "name": "stdout",
     "output_type": "stream",
     "text": [
      "[1, 3, 5, 7, 9, 11, 13, 15, 17, 19, 21, 23, 25, 27, 29, 31, 33, 35, 37, 39, 41, 43, 45, 47, 49]\n"
     ]
    }
   ],
   "source": [
    "odd_list = []\n",
    "for i in range(1,51,2):\n",
    "    odd_list.append(i)\n",
    "print(odd_list)\n",
    "    "
   ]
  },
  {
   "cell_type": "markdown",
   "id": "a6f9317e",
   "metadata": {},
   "source": [
    "# 3. 반복문으로 네모 출력\n",
    "\n",
    "두 개의 정수 n과 m이 주어졌을 때, 가로의 길이가 n, 세로의 길이가 m인 직사각형 형태를\n",
    "별(*) 문자를 이용하여 출력하시오. 단, 반복문을 사용하여 작성하시오.\n"
   ]
  },
  {
   "cell_type": "code",
   "execution_count": 18,
   "id": "2dd63fb4",
   "metadata": {},
   "outputs": [
    {
     "name": "stdout",
     "output_type": "stream",
     "text": [
      "*****\n",
      "*   *\n",
      "*   *\n",
      "*   *\n",
      "*   *\n",
      "*   *\n",
      "*   *\n",
      "*   *\n",
      "*****\n"
     ]
    }
   ],
   "source": [
    "n = 5\n",
    "m = 9\n",
    "s = '*'\n",
    "blank = ''\n",
    "print('*' * n)\n",
    "for i in range(m-2):\n",
    "    \n",
    "    print(f'{s:{blank}<{n-1}}' + '*' ) #f'{}' 익숙하지가 않다\n",
    "\n",
    "print('*' * n)"
   ]
  },
  {
   "cell_type": "markdown",
   "id": "f2abe44e",
   "metadata": {},
   "source": [
    "# 4. 조건 표현식\n",
    "\n",
    "주어진 코드의 조건문을 조건 표현식으로 바꾸어 작성하시오."
   ]
  },
  {
   "cell_type": "code",
   "execution_count": 20,
   "id": "0fd6bb94",
   "metadata": {},
   "outputs": [
    {
     "name": "stdout",
     "output_type": "stream",
     "text": [
      "입실 가능\n"
     ]
    }
   ],
   "source": [
    "temp = 36.5\n",
    "if temp >= 37.5:\n",
    "    print('입실 불가')\n",
    "else:\n",
    "    print('입실 가능')\n"
   ]
  },
  {
   "cell_type": "code",
   "execution_count": 21,
   "id": "5d436f64",
   "metadata": {},
   "outputs": [
    {
     "name": "stdout",
     "output_type": "stream",
     "text": [
      "입실가능\n"
     ]
    }
   ],
   "source": [
    "temp = 36.5\n",
    "print('입실불가') if temp >= 37.5 else print('입실가능')"
   ]
  },
  {
   "cell_type": "markdown",
   "id": "cd5242e5",
   "metadata": {},
   "source": [
    "# 5. 정중앙 문자\n",
    "문자열을 전달 받아 해당 문자열의 정중앙 문자를 반환하는 get_middle_char 함수를\n",
    "작성하시오. 단, 문자열의 길이가 짝수일 경우에는 정중앙 문자 2개를 반환한다."
   ]
  },
  {
   "cell_type": "markdown",
   "id": "0c31ee1a",
   "metadata": {},
   "source": [
    "get_middle_char('ssafy’) # => a\n",
    "\n",
    "get_middle_char('coding’) # => di"
   ]
  },
  {
   "cell_type": "code",
   "execution_count": 34,
   "id": "ab7fe186",
   "metadata": {},
   "outputs": [
    {
     "name": "stdout",
     "output_type": "stream",
     "text": [
      "c\n"
     ]
    }
   ],
   "source": [
    "def get_middle_char(char):\n",
    "    if len(char)%2 == 1:\n",
    "        return(char[int(len(char)/2 - 0.5)])\n",
    "    \n",
    "    else:\n",
    "        return(char[int(len(char)/2 - 1) : int(len(char)/2 + 1)])\n",
    "        \n",
    "print(get_middle_char('abcdf'))"
   ]
  },
  {
   "cell_type": "code",
   "execution_count": null,
   "id": "a754f5f6",
   "metadata": {},
   "outputs": [],
   "source": []
  }
 ],
 "metadata": {
  "kernelspec": {
   "display_name": "Python 3.10.1 64-bit",
   "language": "python",
   "name": "python3"
  },
  "language_info": {
   "codemirror_mode": {
    "name": "ipython",
    "version": 3
   },
   "file_extension": ".py",
   "mimetype": "text/x-python",
   "name": "python",
   "nbconvert_exporter": "python",
   "pygments_lexer": "ipython3",
   "version": "3.10.1"
  },
  "vscode": {
   "interpreter": {
    "hash": "f9b970b6cc4cad264d93be45a4db5bd0c6c770ae2ed4f33e8d9520a62c22074a"
   }
  }
 },
 "nbformat": 4,
 "nbformat_minor": 5
}
