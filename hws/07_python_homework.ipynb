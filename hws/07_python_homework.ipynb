{
 "cells": [
  {
   "cell_type": "markdown",
   "id": "4169f5cf",
   "metadata": {},
   "source": [
    "# 1. Type Class\n",
    "Python은 객체 지향 프로그래밍 언어이다. Python에서 기본적으로 정의되어 있는\n",
    "클래스를 최소 5가지 이상 작성하시오."
   ]
  },
  {
   "cell_type": "markdown",
   "id": "4572860a",
   "metadata": {},
   "source": [
    "list, set, dict, range, bool"
   ]
  },
  {
   "cell_type": "markdown",
   "id": "65e539a6",
   "metadata": {},
   "source": [
    "# 2. Magic Method\n",
    "아래에 제시된 매직 메서드들이 각각 어떠한 역할을 하는지 간단하게 작성하시오.\n",
    "\n"
   ]
  },
  {
   "cell_type": "code",
   "execution_count": null,
   "id": "21ebcc23",
   "metadata": {},
   "outputs": [],
   "source": [
    "# __init__, __del__, __str__, __repr__"
   ]
  },
  {
   "cell_type": "code",
   "execution_count": 2,
   "id": "a4f1ced1",
   "metadata": {},
   "outputs": [],
   "source": [
    "# __init__ : 어떤 클래스의 인스턴스가 생성될 때 파이썬 인터프리터에 의해 자동으로 호출되는 메소드\n",
    "#__del__ : 소멸자 매서드, 인스턴스를 삭제할 때 자동으로 호출된다\n",
    "#__str__: 객체의 문자열 표현을 반환, 객체를 평문화하는데 중점\n",
    "#__repr__: 객체의 문자열 표현을 반환, 객체를 표현하는데 중점"
   ]
  },
  {
   "cell_type": "markdown",
   "id": "2bae15eb",
   "metadata": {},
   "source": [
    "# 3. Instance Method\n",
    ".sort() 와 같이 문자열, 리스트, 딕셔너리 등을 조작 할 때 사용하였던 것들은 클래스에\n",
    "정의된 메서드들이었다. 이처럼 문자열, 리스트, 딕셔너리 등을 조작하는 메서드를 최소\n",
    "3가지 이상 그 역할과 함께 작성하시오"
   ]
  },
  {
   "cell_type": "markdown",
   "id": "4a7db470",
   "metadata": {},
   "source": [
    ".add() : 괄호 안의 내용을 추가함\n",
    ".reverse() : 순서를 뒤집음\n",
    ".count() : 개수를 세어줌"
   ]
  },
  {
   "cell_type": "markdown",
   "id": "4ce6e1b3",
   "metadata": {},
   "source": [
    "# 4. 오류의 종류\n",
    "아래에 제시된 오류들이 각각 어떠한 경우에 발생하는지 간단하게 작성하시오."
   ]
  },
  {
   "cell_type": "markdown",
   "id": "30e0264f",
   "metadata": {},
   "source": [
    "ZeroDivisionError, 0으로 나눌 때 발생\n",
    "NameError, 이름이 선언되지 않았을 때\n",
    "TypeError, 타입이 맞지 않을 때\n",
    "IndexError, 인덱스가 어긋났을 때\n",
    "KeyError, 키값이 없을 때\n",
    "ModuleNotFoundError, 해당 모듈이 없을 때\n",
    "ImportError 라이브러리가 없을 때"
   ]
  }
 ],
 "metadata": {
  "kernelspec": {
   "display_name": "Python 3 (ipykernel)",
   "language": "python",
   "name": "python3"
  },
  "language_info": {
   "codemirror_mode": {
    "name": "ipython",
    "version": 3
   },
   "file_extension": ".py",
   "mimetype": "text/x-python",
   "name": "python",
   "nbconvert_exporter": "python",
   "pygments_lexer": "ipython3",
   "version": "3.9.13"
  }
 },
 "nbformat": 4,
 "nbformat_minor": 5
}
