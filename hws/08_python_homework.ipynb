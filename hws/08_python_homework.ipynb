{
 "cells": [
  {
   "cell_type": "markdown",
   "id": "a9087793",
   "metadata": {},
   "source": [
    "# 1. Circle 인스턴스 만들기\n",
    "아래와 같은 Circle 클래스가 있을 때, 반지름이 3이고 x, y좌표가 (2, 4)인\n",
    "Circle 인스턴스를 만들어 넓이와 둘레를 출력하시오."
   ]
  },
  {
   "cell_type": "code",
   "execution_count": 2,
   "id": "6b7683f2",
   "metadata": {},
   "outputs": [],
   "source": [
    "class Circle:\n",
    "\n",
    "    pi = 3.14\n",
    "    def __init__(self, r, x, y):\n",
    "        self.r = r\n",
    "        self.x = x\n",
    "        self.y = y\n",
    "    \n",
    "    def area(self):\n",
    "        return Circle.pi * self.r * self.r\n",
    "    \n",
    "    def circumference(self):\n",
    "        return 2 * Circle.pi * self.r\n",
    "    \n",
    "    def center(self):\n",
    "        return (self.x, self.y)"
   ]
  },
  {
   "cell_type": "code",
   "execution_count": 4,
   "id": "30d7eaab",
   "metadata": {},
   "outputs": [
    {
     "name": "stdout",
     "output_type": "stream",
     "text": [
      "넓이 : 28.259999999999998, 둘레 : 18.84\n"
     ]
    }
   ],
   "source": [
    "circle1 = Circle(3, 2, 4)\n",
    "print('넓이 : {}, 둘레 : {}'.format(circle1.area(), circle1.circumference()))"
   ]
  },
  {
   "cell_type": "markdown",
   "id": "a4cd94c1",
   "metadata": {},
   "source": [
    "# 2. Dog과 Bird는 Animal이다\n",
    "다음과 같이 Animal 클래스가 주어질 때, 해당 클래스를 상속 받아 아래의 보기와 같이\n",
    "동작하는 Dog 클래스와 Bird 클래스를 작성하시오."
   ]
  },
  {
   "cell_type": "code",
   "execution_count": 9,
   "id": "5932f7e0",
   "metadata": {},
   "outputs": [],
   "source": [
    "class Animal:\n",
    "    \n",
    "    def __init__(self, name):\n",
    "        self.name = name\n",
    "    \n",
    "    def walk(self):\n",
    "        print(f'{self.name}! 걷는다!')\n",
    "    \n",
    "    def eat(self):\n",
    "        print(f'{self.name}! 먹는다!')"
   ]
  },
  {
   "cell_type": "code",
   "execution_count": 12,
   "id": "8b023754",
   "metadata": {},
   "outputs": [],
   "source": [
    "class Dog(Animal):\n",
    "    def run(self):\n",
    "        print(f'{self.name}!달린다!')\n",
    "    \n",
    "    def bark(self):\n",
    "        print(f'{self.name}!짖는다!')\n",
    "              "
   ]
  },
  {
   "cell_type": "code",
   "execution_count": 13,
   "id": "5887a9ac",
   "metadata": {},
   "outputs": [],
   "source": [
    "class Bird(Animal):\n",
    "    def fly(self):\n",
    "        print(f'{self.name}!푸드덕!')\n",
    "    \n",
    "    #def bark(self):\n",
    "     #   print(f'{self.name}!짖는다!')\n"
   ]
  },
  {
   "cell_type": "code",
   "execution_count": 14,
   "id": "379676e0",
   "metadata": {},
   "outputs": [
    {
     "name": "stdout",
     "output_type": "stream",
     "text": [
      "꼽이!달린다!\n",
      "꼽이!짖는다!\n",
      "구구! 걷는다!\n",
      "구구! 먹는다!\n",
      "구구!푸드덕!\n"
     ]
    }
   ],
   "source": [
    "dog = Dog('꼽이')\n",
    "dog.run() # 꼽이! 달린다! \n",
    "dog.bark() # 꼽이! 짖는다!\n",
    "bird = Bird('구구')\n",
    "bird.walk() # 구구! 걷는다! \n",
    "bird.eat() # 구구! 먹는다! \n",
    "bird.fly() # 구구! 푸드덕"
   ]
  },
  {
   "cell_type": "markdown",
   "id": "476961bb",
   "metadata": {},
   "source": [
    "# 3. Module Import"
   ]
  },
  {
   "cell_type": "code",
   "execution_count": 15,
   "id": "aed1a6af",
   "metadata": {},
   "outputs": [],
   "source": [
    "# fibo.py\n",
    "\n",
    "def fibo_recursion(n):\n",
    "    \n",
    "    if n < 2:\n",
    "        return n\n",
    "    else:\n",
    "        return fibo_recursion(n-1) + fibo_recursion(n-2)"
   ]
  },
  {
   "cell_type": "markdown",
   "id": "a285b67b",
   "metadata": {},
   "source": [
    "위와 같은 코드가 같은 폴더 안의 fibo.py 파일에 작성되어 있을 때, 아래와 같은 형태로\n",
    "함수를 실행 할 수 있도록 하는 import 문을 빈칸 (a), (b), (c)를 채워 넣어 완성하시오.\n"
   ]
  },
  {
   "cell_type": "code",
   "execution_count": 16,
   "id": "482c6441",
   "metadata": {},
   "outputs": [],
   "source": [
    "# from __(a)__ import __(b)__ as __(c)__\n",
    "\n",
    "#recursion(4)"
   ]
  },
  {
   "cell_type": "markdown",
   "id": "c71c33cf",
   "metadata": {},
   "source": [
    "(a) fibo.py\n",
    "(b) fibo_recursion\n",
    "(c) recursion"
   ]
  }
 ],
 "metadata": {
  "kernelspec": {
   "display_name": "Python 3 (ipykernel)",
   "language": "python",
   "name": "python3"
  },
  "language_info": {
   "codemirror_mode": {
    "name": "ipython",
    "version": 3
   },
   "file_extension": ".py",
   "mimetype": "text/x-python",
   "name": "python",
   "nbconvert_exporter": "python",
   "pygments_lexer": "ipython3",
   "version": "3.9.13"
  }
 },
 "nbformat": 4,
 "nbformat_minor": 5
}
