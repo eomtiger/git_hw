{
 "cells": [
  {
   "cell_type": "markdown",
   "id": "3854323a",
   "metadata": {},
   "source": [
    "# 간단한 N의 약수 \n",
    "입력으로 1개의 정수 N이 주어진다. 정수 N의 약수를 오름차순으로 출력하는\n",
    "프로그램을 작성하시오."
   ]
  },
  {
   "cell_type": "markdown",
   "id": "9fa58035",
   "metadata": {},
   "source": [
    "[제약 사항]\n",
    "\n",
    "N은 1이상 1,000이하의 정수이다. (1 ≤ N ≤ 1,000)\n",
    "\n",
    "[입력]\n",
    "\n",
    "입력으로 정수 N이 주어진다.\n",
    "\n",
    "[출력]\n",
    "\n",
    "정수 N의 모든 약수를 오름차순으로 출력한다.\n",
    "\n",
    "[입력 예시]\n",
    "\n",
    "10\n",
    "[출력 예시]\n",
    "\n",
    "1 2 5 10\n"
   ]
  },
  {
   "cell_type": "code",
   "execution_count": 6,
   "id": "ae65e324",
   "metadata": {},
   "outputs": [
    {
     "name": "stdout",
     "output_type": "stream",
     "text": [
      "1 이상 1000이하의 정수를 입력하세요 : 1000\n"
     ]
    }
   ],
   "source": [
    "N = int(input('1 이상 1000이하의 정수를 입력하세요 : '))"
   ]
  },
  {
   "cell_type": "code",
   "execution_count": 7,
   "id": "1e49ac7d",
   "metadata": {},
   "outputs": [
    {
     "name": "stdout",
     "output_type": "stream",
     "text": [
      "1 2 4 5 8 10 20 25 40 50 100 125 200 250 500 1000 "
     ]
    }
   ],
   "source": [
    "for i in range(1, N+1):\n",
    "    if N % i == 0 :\n",
    "        print(i, end = ' ')"
   ]
  },
  {
   "cell_type": "markdown",
   "id": "f5d50a19",
   "metadata": {},
   "source": [
    "#  List의 합 구하기\n",
    "정수로만 이루어진 list를 전달 받아 해당 list의 모든 요소들의 합을 반환하는\n",
    "list_sum 함수를 built-in 함수인 sum() 함수를 사용하지 않고 작성하시오."
   ]
  },
  {
   "cell_type": "markdown",
   "id": "2478ecac",
   "metadata": {},
   "source": [
    "list_sum([1, 2, 3, 4, 5]) # => 15"
   ]
  },
  {
   "cell_type": "code",
   "execution_count": 10,
   "id": "fb6bdbde",
   "metadata": {},
   "outputs": [],
   "source": [
    "def list_sum(a):\n",
    "    s = 0\n",
    "    for i in range(len(a)):\n",
    "        s += a[i]\n",
    "    return s\n",
    "\n",
    "        "
   ]
  },
  {
   "cell_type": "code",
   "execution_count": 11,
   "id": "a447b964",
   "metadata": {},
   "outputs": [
    {
     "data": {
      "text/plain": [
       "6"
      ]
     },
     "execution_count": 11,
     "metadata": {},
     "output_type": "execute_result"
    }
   ],
   "source": [
    "list_sum([1,2,3])"
   ]
  },
  {
   "cell_type": "markdown",
   "id": "30a3dc01",
   "metadata": {},
   "source": [
    "# Dictionary로 이루어진 List의 합 구하기\n",
    "Dictionary로 이루어진 list를 전달 받아 모든 dictionary의 'age' key에 해당하는 value\n",
    "들의 합을 반환하는 dict_list_sum 함수를 built-in 함수인 sum() 함수를 사용하지 않고\n",
    "작성하시오.\n"
   ]
  },
  {
   "cell_type": "code",
   "execution_count": 14,
   "id": "3fe94303",
   "metadata": {},
   "outputs": [],
   "source": [
    "# dict_list_sum([{’name’: ’kim’, ’age’: 12},\n",
    "#                {’name’: ‘lee’, ’age’: 4}])   # => 16"
   ]
  },
  {
   "cell_type": "code",
   "execution_count": 26,
   "id": "331e16cd",
   "metadata": {},
   "outputs": [],
   "source": [
    "def dict_list_sum(p):\n",
    "    s = 0\n",
    "    for i in range(len(p)):\n",
    "        s += p[i]['age']\n",
    "    \n",
    "    return s\n",
    "        "
   ]
  },
  {
   "cell_type": "code",
   "execution_count": 27,
   "id": "49fd3c6d",
   "metadata": {},
   "outputs": [
    {
     "data": {
      "text/plain": [
       "16"
      ]
     },
     "execution_count": 27,
     "metadata": {},
     "output_type": "execute_result"
    }
   ],
   "source": [
    "dict_list_sum([{'name': 'kim', 'age': 12},\n",
    "               {'name': 'lee', 'age': 4}])"
   ]
  },
  {
   "cell_type": "markdown",
   "id": "4083cf7d",
   "metadata": {},
   "source": [
    "# 2차원 List의 전체 합 구하기\n",
    "정수로만 이루어진 2차원 list를 전달 받아 해당 list의 모든 요소들의 합을 반환하는\n",
    "all_list_sum 함수를 built-in 함수인 sum() 함수를 사용하지 않고 작성하시오."
   ]
  },
  {
   "cell_type": "code",
   "execution_count": 30,
   "id": "c0ba645e",
   "metadata": {},
   "outputs": [],
   "source": [
    "def all_list_sum(a):\n",
    "    s = 0\n",
    "    for i in range(len(a)):\n",
    "        for k in range(len(a[i])):\n",
    "            s += a[i][k]\n",
    "            \n",
    "    return s"
   ]
  },
  {
   "cell_type": "code",
   "execution_count": 31,
   "id": "71735e2f",
   "metadata": {},
   "outputs": [
    {
     "data": {
      "text/plain": [
       "55"
      ]
     },
     "execution_count": 31,
     "metadata": {},
     "output_type": "execute_result"
    }
   ],
   "source": [
    "all_list_sum([[1], [2, 3], [4, 5, 6], [7, 8, 9, 10]])"
   ]
  },
  {
   "cell_type": "markdown",
   "id": "60321fb1",
   "metadata": {},
   "source": [
    "--------------\n",
    "아스키 코드는 미국 ANSI에서 표준화한 정보교환용 7비트 부호체계이다. 아스키 코드는 총\n",
    "128가지의 문자를 나타낼 수 있으며 각각의 문자를 나타내는 숫자값이 존재한다. 다음은 아\n",
    "스키 코드표의 일부를 나타낸 것이다.\n",
    "--------------"
   ]
  },
  {
   "cell_type": "markdown",
   "id": "572bcc67",
   "metadata": {},
   "source": [
    "위 아스키 표를 활용하여 5 ~ 7번 문제의 답안 코드를 작성하시오.\n"
   ]
  },
  {
   "cell_type": "markdown",
   "id": "67585ecc",
   "metadata": {},
   "source": [
    "# 숫자의 의미\n",
    "정수로 이루어진 list를 전달 받아, 각 정수에 대응되는 아스키 문자를 이어붙인\n",
    "문자열을 반환하는 get_secret_word 함수를 작성하시오. \n",
    "단, list는 65이상 90이하 그리고 97이상 122이하의 정수로만 구성되어 있다."
   ]
  },
  {
   "cell_type": "code",
   "execution_count": 47,
   "id": "8821d8e4",
   "metadata": {},
   "outputs": [
    {
     "data": {
      "text/plain": [
       "[[97, 'a'], [98, 'b'], [99, 'c']]"
      ]
     },
     "execution_count": 47,
     "metadata": {},
     "output_type": "execute_result"
    }
   ],
   "source": [
    "list = []\n",
    "for i,j in enumerate(['a','b','c'], start = 97):\n",
    "    list.append([i,j])\n",
    "list"
   ]
  },
  {
   "cell_type": "code",
   "execution_count": 48,
   "id": "a27f3a52",
   "metadata": {},
   "outputs": [
    {
     "data": {
      "text/plain": [
       "'z'"
      ]
     },
     "execution_count": 48,
     "metadata": {},
     "output_type": "execute_result"
    }
   ],
   "source": [
    "chr(122)"
   ]
  },
  {
   "cell_type": "code",
   "execution_count": 50,
   "id": "40f27f97",
   "metadata": {},
   "outputs": [
    {
     "data": {
      "text/plain": [
       "122"
      ]
     },
     "execution_count": 50,
     "metadata": {},
     "output_type": "execute_result"
    }
   ],
   "source": [
    "ord('z')"
   ]
  },
  {
   "cell_type": "code",
   "execution_count": 53,
   "id": "3f9c30f4",
   "metadata": {},
   "outputs": [],
   "source": [
    "def get_secret_word(g):\n",
    "    s = ''\n",
    "    for i in range(len(g)):\n",
    "        s +=chr(g[i])\n",
    "    return s"
   ]
  },
  {
   "cell_type": "code",
   "execution_count": 54,
   "id": "4c4f7289",
   "metadata": {},
   "outputs": [
    {
     "data": {
      "text/plain": [
       "'SsAfY'"
      ]
     },
     "execution_count": 54,
     "metadata": {},
     "output_type": "execute_result"
    }
   ],
   "source": [
    "get_secret_word([83, 115, 65, 102, 89]) "
   ]
  },
  {
   "cell_type": "markdown",
   "id": "815e7933",
   "metadata": {},
   "source": [
    "# 내 이름은 몇일까?\n",
    "문자열을 전달 받아 해당 문자열의 각 문자에 대응되는 아스키 숫자들의 합을 반환하는\n",
    "get_secret_number 함수를 작성하시오. 단, 문자열은 A~Z, a~z로만 구성되어 있다."
   ]
  },
  {
   "cell_type": "code",
   "execution_count": 57,
   "id": "70fb35e7",
   "metadata": {},
   "outputs": [],
   "source": [
    "def get_secret_number(g):\n",
    "    s = 0\n",
    "    for i in range(len(g)):\n",
    "        s += ord(g[i])\n",
    "    return s"
   ]
  },
  {
   "cell_type": "code",
   "execution_count": 58,
   "id": "69ca8b22",
   "metadata": {},
   "outputs": [
    {
     "data": {
      "text/plain": [
       "646"
      ]
     },
     "execution_count": 58,
     "metadata": {},
     "output_type": "execute_result"
    }
   ],
   "source": [
    "get_secret_number('heewon')"
   ]
  },
  {
   "cell_type": "markdown",
   "id": "61f8ad81",
   "metadata": {},
   "source": [
    "# 강한 이름\n",
    "문자열 2개를 전달 받아 두 문자열의 각 문자에 대응되는 아스키 숫자들의 합을\n",
    "비교하여 더 큰 합을 가진 문자열을 반환하는 get_strong_word 함수를 작성하시오.\n",
    "단, 두 문자열의 아스키 숫자의 합이 같은 경우, 둘 다 반환하세요."
   ]
  },
  {
   "cell_type": "code",
   "execution_count": 67,
   "id": "c472b88e",
   "metadata": {},
   "outputs": [],
   "source": [
    "def get_strong_word(a, b):\n",
    "    s = 0\n",
    "    for i in range(len(a)):\n",
    "        s += ord(a[i])\n",
    "    \n",
    "    k = 0\n",
    "    for i in range(len(b)):\n",
    "        k += ord(b[i])\n",
    "        \n",
    "    if s > k :\n",
    "        return a\n",
    "    \n",
    "    elif s < k :\n",
    "        return b\n",
    "    \n",
    "    elif s == k :\n",
    "        return a, b"
   ]
  },
  {
   "cell_type": "code",
   "execution_count": 68,
   "id": "84741903",
   "metadata": {},
   "outputs": [
    {
     "data": {
      "text/plain": [
       "'z'"
      ]
     },
     "execution_count": 68,
     "metadata": {},
     "output_type": "execute_result"
    }
   ],
   "source": [
    "get_strong_word('z', 'a')"
   ]
  },
  {
   "cell_type": "code",
   "execution_count": 69,
   "id": "3c6fc58f",
   "metadata": {},
   "outputs": [
    {
     "data": {
      "text/plain": [
       "'deliah'"
      ]
     },
     "execution_count": 69,
     "metadata": {},
     "output_type": "execute_result"
    }
   ],
   "source": [
    "get_strong_word('deliah', 'dixon')"
   ]
  },
  {
   "cell_type": "code",
   "execution_count": null,
   "id": "0aa06bd5",
   "metadata": {},
   "outputs": [],
   "source": []
  }
 ],
 "metadata": {
  "kernelspec": {
   "display_name": "Python 3 (ipykernel)",
   "language": "python",
   "name": "python3"
  },
  "language_info": {
   "codemirror_mode": {
    "name": "ipython",
    "version": 3
   },
   "file_extension": ".py",
   "mimetype": "text/x-python",
   "name": "python",
   "nbconvert_exporter": "python",
   "pygments_lexer": "ipython3",
   "version": "3.9.13"
  },
  "toc": {
   "base_numbering": 1,
   "nav_menu": {},
   "number_sections": true,
   "sideBar": true,
   "skip_h1_title": false,
   "title_cell": "Table of Contents",
   "title_sidebar": "Contents",
   "toc_cell": false,
   "toc_position": {},
   "toc_section_display": true,
   "toc_window_display": false
  }
 },
 "nbformat": 4,
 "nbformat_minor": 5
}
