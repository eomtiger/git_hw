{
 "cells": [
  {
   "cell_type": "markdown",
   "id": "41a37e89",
   "metadata": {},
   "source": [
    "# 1. 평균 점수 구하기\n",
    "key 값으로 과목명, value 값으로 점수를 가지는 dictionary를 전달 받아, 전체 과목의\n",
    "평균 점수를 반환하는 함수 get_dict_avg 함수를 작성하시오."
   ]
  },
  {
   "cell_type": "code",
   "execution_count": 9,
   "id": "0f72fbd8",
   "metadata": {},
   "outputs": [],
   "source": [
    "def get_dict_avg(dic):\n",
    "    total = 0\n",
    "    for i in dic.keys():\n",
    "        total += dic.get(i)\n",
    "    \n",
    "    return total/len(dic)\n",
    "    "
   ]
  },
  {
   "cell_type": "code",
   "execution_count": 11,
   "id": "52456c8a",
   "metadata": {},
   "outputs": [
    {
     "data": {
      "text/plain": [
       "85.5"
      ]
     },
     "execution_count": 11,
     "metadata": {},
     "output_type": "execute_result"
    }
   ],
   "source": [
    "get_dict_avg({\n",
    "'python' : 80,\n",
    "'web' : 83,\n",
    "'algorithm' : 90,\n",
    "'django' : 89})"
   ]
  },
  {
   "cell_type": "markdown",
   "id": "cebba4ba",
   "metadata": {},
   "source": [
    "# 2. 혈액형 분류하기\n",
    "여러 사람의 혈액형(A, B, AB, O)에 대한 정보가 담긴 list를 전달 받아, key는 혈액형의\n",
    "종류, value는 사람 수인 dictionary를 반환하는 count_blood 함수를 작성하시오."
   ]
  },
  {
   "cell_type": "code",
   "execution_count": 13,
   "id": "fd676fda",
   "metadata": {},
   "outputs": [],
   "source": [
    "def count_blood(lst):\n",
    "    pass\n",
    "\n",
    "    return {'A':lst.count('A'), 'B':lst.count('B'), 'O': lst.count('O'), 'AB':lst.count('AB')}"
   ]
  },
  {
   "cell_type": "code",
   "execution_count": 18,
   "id": "2f980fba",
   "metadata": {},
   "outputs": [
    {
     "data": {
      "text/plain": [
       "{'A': 3, 'B': 3, 'O': 3, 'AB': 3}"
      ]
     },
     "execution_count": 18,
     "metadata": {},
     "output_type": "execute_result"
    }
   ],
   "source": [
    "count_blood(['A', 'B', 'A', 'O', 'AB', 'AB','O', 'A', 'B', 'O', 'B', 'AB'])"
   ]
  }
 ],
 "metadata": {
  "kernelspec": {
   "display_name": "Python 3 (ipykernel)",
   "language": "python",
   "name": "python3"
  },
  "language_info": {
   "codemirror_mode": {
    "name": "ipython",
    "version": 3
   },
   "file_extension": ".py",
   "mimetype": "text/x-python",
   "name": "python",
   "nbconvert_exporter": "python",
   "pygments_lexer": "ipython3",
   "version": "3.9.13"
  }
 },
 "nbformat": 4,
 "nbformat_minor": 5
}
